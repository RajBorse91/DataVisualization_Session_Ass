{
  "nbformat": 4,
  "nbformat_minor": 0,
  "metadata": {
    "colab": {
      "name": "Ass1-habermans_survival_data_set.ipynb",
      "provenance": [],
      "collapsed_sections": [],
      "authorship_tag": "ABX9TyMdO5XQU62Nnt5FbCzfqFUB",
      "include_colab_link": true
    },
    "kernelspec": {
      "name": "python3",
      "display_name": "Python 3"
    },
    "language_info": {
      "name": "python"
    }
  },
  "cells": [
    {
      "cell_type": "markdown",
      "metadata": {
        "id": "view-in-github",
        "colab_type": "text"
      },
      "source": [
        "<a href=\"https://colab.research.google.com/github/RajBorse91/DataVisualization_Session_Ass/blob/main/Ass1_habermans_survival_data_set.ipynb\" target=\"_parent\"><img src=\"https://colab.research.google.com/assets/colab-badge.svg\" alt=\"Open In Colab\"/></a>"
      ]
    },
    {
      "cell_type": "markdown",
      "source": [
        "# EDA(*Exploratory Data Analysis*) on the Haberman's survival data **set**"
      ],
      "metadata": {
        "id": "POMtJnnDkDwP"
      }
    },
    {
      "cell_type": "markdown",
      "source": [
        "**Haberman’s dataset** contains data from a study conducted at the University of Chicago’s Billings Hospital between the years 1958 to 1970 for *patients who underwent surgery for breast cancer.*\n",
        "\n",
        "![images.jpg](data:image/jpeg;base64,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)\n",
        "\n",
        "the motive behind this analysis would be to predict the chances of survival of a cancer patient."
      ],
      "metadata": {
        "id": "lXe8WMQsmqFX"
      }
    },
    {
      "cell_type": "code",
      "source": [
        "#To begin, we need to import some of the python libraries.\n",
        "import pandas as pd\n",
        "import numpy as np\n",
        "import matplotlib.pyplot as plt\n",
        "import seaborn as sns"
      ],
      "metadata": {
        "id": "KVNocUGarxqv"
      },
      "execution_count": null,
      "outputs": []
    },
    {
      "cell_type": "code",
      "source": [
        "#loading data\n",
        "haberman = pd.read_csv(\"haberman.csv\")\n",
        "haberman.head()"
      ],
      "metadata": {
        "colab": {
          "base_uri": "https://localhost:8080/",
          "height": 206
        },
        "id": "SVa5SaF3srRM",
        "outputId": "cb61606d-034f-482c-c136-743ab3500f0e"
      },
      "execution_count": null,
      "outputs": [
        {
          "output_type": "execute_result",
          "data": {
            "text/html": [
              "\n",
              "  <div id=\"df-5270bcad-942e-444c-8d46-c6352db67d0d\">\n",
              "    <div class=\"colab-df-container\">\n",
              "      <div>\n",
              "<style scoped>\n",
              "    .dataframe tbody tr th:only-of-type {\n",
              "        vertical-align: middle;\n",
              "    }\n",
              "\n",
              "    .dataframe tbody tr th {\n",
              "        vertical-align: top;\n",
              "    }\n",
              "\n",
              "    .dataframe thead th {\n",
              "        text-align: right;\n",
              "    }\n",
              "</style>\n",
              "<table border=\"1\" class=\"dataframe\">\n",
              "  <thead>\n",
              "    <tr style=\"text-align: right;\">\n",
              "      <th></th>\n",
              "      <th>30</th>\n",
              "      <th>64</th>\n",
              "      <th>1</th>\n",
              "      <th>1.1</th>\n",
              "    </tr>\n",
              "  </thead>\n",
              "  <tbody>\n",
              "    <tr>\n",
              "      <th>0</th>\n",
              "      <td>30</td>\n",
              "      <td>62</td>\n",
              "      <td>3</td>\n",
              "      <td>1</td>\n",
              "    </tr>\n",
              "    <tr>\n",
              "      <th>1</th>\n",
              "      <td>30</td>\n",
              "      <td>65</td>\n",
              "      <td>0</td>\n",
              "      <td>1</td>\n",
              "    </tr>\n",
              "    <tr>\n",
              "      <th>2</th>\n",
              "      <td>31</td>\n",
              "      <td>59</td>\n",
              "      <td>2</td>\n",
              "      <td>1</td>\n",
              "    </tr>\n",
              "    <tr>\n",
              "      <th>3</th>\n",
              "      <td>31</td>\n",
              "      <td>65</td>\n",
              "      <td>4</td>\n",
              "      <td>1</td>\n",
              "    </tr>\n",
              "    <tr>\n",
              "      <th>4</th>\n",
              "      <td>33</td>\n",
              "      <td>58</td>\n",
              "      <td>10</td>\n",
              "      <td>1</td>\n",
              "    </tr>\n",
              "  </tbody>\n",
              "</table>\n",
              "</div>\n",
              "      <button class=\"colab-df-convert\" onclick=\"convertToInteractive('df-5270bcad-942e-444c-8d46-c6352db67d0d')\"\n",
              "              title=\"Convert this dataframe to an interactive table.\"\n",
              "              style=\"display:none;\">\n",
              "        \n",
              "  <svg xmlns=\"http://www.w3.org/2000/svg\" height=\"24px\"viewBox=\"0 0 24 24\"\n",
              "       width=\"24px\">\n",
              "    <path d=\"M0 0h24v24H0V0z\" fill=\"none\"/>\n",
              "    <path d=\"M18.56 5.44l.94 2.06.94-2.06 2.06-.94-2.06-.94-.94-2.06-.94 2.06-2.06.94zm-11 1L8.5 8.5l.94-2.06 2.06-.94-2.06-.94L8.5 2.5l-.94 2.06-2.06.94zm10 10l.94 2.06.94-2.06 2.06-.94-2.06-.94-.94-2.06-.94 2.06-2.06.94z\"/><path d=\"M17.41 7.96l-1.37-1.37c-.4-.4-.92-.59-1.43-.59-.52 0-1.04.2-1.43.59L10.3 9.45l-7.72 7.72c-.78.78-.78 2.05 0 2.83L4 21.41c.39.39.9.59 1.41.59.51 0 1.02-.2 1.41-.59l7.78-7.78 2.81-2.81c.8-.78.8-2.07 0-2.86zM5.41 20L4 18.59l7.72-7.72 1.47 1.35L5.41 20z\"/>\n",
              "  </svg>\n",
              "      </button>\n",
              "      \n",
              "  <style>\n",
              "    .colab-df-container {\n",
              "      display:flex;\n",
              "      flex-wrap:wrap;\n",
              "      gap: 12px;\n",
              "    }\n",
              "\n",
              "    .colab-df-convert {\n",
              "      background-color: #E8F0FE;\n",
              "      border: none;\n",
              "      border-radius: 50%;\n",
              "      cursor: pointer;\n",
              "      display: none;\n",
              "      fill: #1967D2;\n",
              "      height: 32px;\n",
              "      padding: 0 0 0 0;\n",
              "      width: 32px;\n",
              "    }\n",
              "\n",
              "    .colab-df-convert:hover {\n",
              "      background-color: #E2EBFA;\n",
              "      box-shadow: 0px 1px 2px rgba(60, 64, 67, 0.3), 0px 1px 3px 1px rgba(60, 64, 67, 0.15);\n",
              "      fill: #174EA6;\n",
              "    }\n",
              "\n",
              "    [theme=dark] .colab-df-convert {\n",
              "      background-color: #3B4455;\n",
              "      fill: #D2E3FC;\n",
              "    }\n",
              "\n",
              "    [theme=dark] .colab-df-convert:hover {\n",
              "      background-color: #434B5C;\n",
              "      box-shadow: 0px 1px 3px 1px rgba(0, 0, 0, 0.15);\n",
              "      filter: drop-shadow(0px 1px 2px rgba(0, 0, 0, 0.3));\n",
              "      fill: #FFFFFF;\n",
              "    }\n",
              "  </style>\n",
              "\n",
              "      <script>\n",
              "        const buttonEl =\n",
              "          document.querySelector('#df-5270bcad-942e-444c-8d46-c6352db67d0d button.colab-df-convert');\n",
              "        buttonEl.style.display =\n",
              "          google.colab.kernel.accessAllowed ? 'block' : 'none';\n",
              "\n",
              "        async function convertToInteractive(key) {\n",
              "          const element = document.querySelector('#df-5270bcad-942e-444c-8d46-c6352db67d0d');\n",
              "          const dataTable =\n",
              "            await google.colab.kernel.invokeFunction('convertToInteractive',\n",
              "                                                     [key], {});\n",
              "          if (!dataTable) return;\n",
              "\n",
              "          const docLinkHtml = 'Like what you see? Visit the ' +\n",
              "            '<a target=\"_blank\" href=https://colab.research.google.com/notebooks/data_table.ipynb>data table notebook</a>'\n",
              "            + ' to learn more about interactive tables.';\n",
              "          element.innerHTML = '';\n",
              "          dataTable['output_type'] = 'display_data';\n",
              "          await google.colab.output.renderOutput(dataTable, element);\n",
              "          const docLink = document.createElement('div');\n",
              "          docLink.innerHTML = docLinkHtml;\n",
              "          element.appendChild(docLink);\n",
              "        }\n",
              "      </script>\n",
              "    </div>\n",
              "  </div>\n",
              "  "
            ],
            "text/plain": [
              "   30  64   1  1.1\n",
              "0  30  62   3    1\n",
              "1  30  65   0    1\n",
              "2  31  59   2    1\n",
              "3  31  65   4    1\n",
              "4  33  58  10    1"
            ]
          },
          "metadata": {},
          "execution_count": 42
        }
      ]
    },
    {
      "cell_type": "code",
      "source": [
        "#updating column names\n",
        "column_names = [\"age\",\"op_year\",\"axil_nodes\",\"Surv_status\"]\n",
        "'''\n",
        "where,\n",
        "      age - Age of patient at time of operation (numerical)\n",
        "      op_year - Patient's year of operation (year - 1900, numerical)\n",
        "      axil_nodes - Number of positive axillary nodes detected (numerical)\n",
        "      surv_status - Survival status (class attribute)\n",
        "          1 = the patient survived 5 years or longer\n",
        "          2 = the patient died within 5 year\n",
        "'''\n",
        "haberman.columns = column_names"
      ],
      "metadata": {
        "id": "jg0f4JKDtq4P"
      },
      "execution_count": null,
      "outputs": []
    },
    {
      "cell_type": "code",
      "source": [
        "haberman.shape"
      ],
      "metadata": {
        "colab": {
          "base_uri": "https://localhost:8080/"
        },
        "id": "unk5l78_wEqZ",
        "outputId": "48a37f38-62cd-4fe9-cd2c-25a1995eef7a"
      },
      "execution_count": null,
      "outputs": [
        {
          "output_type": "execute_result",
          "data": {
            "text/plain": [
              "(305, 4)"
            ]
          },
          "metadata": {},
          "execution_count": 44
        }
      ]
    },
    {
      "cell_type": "code",
      "source": [
        "haberman.head(15)"
      ],
      "metadata": {
        "colab": {
          "base_uri": "https://localhost:8080/",
          "height": 520
        },
        "id": "yE-LAY1Xvccq",
        "outputId": "0897e260-7ed3-4e94-bf64-95ee24be177e"
      },
      "execution_count": null,
      "outputs": [
        {
          "output_type": "execute_result",
          "data": {
            "text/html": [
              "\n",
              "  <div id=\"df-afd57ed1-9230-418b-8497-87a1e017d5f6\">\n",
              "    <div class=\"colab-df-container\">\n",
              "      <div>\n",
              "<style scoped>\n",
              "    .dataframe tbody tr th:only-of-type {\n",
              "        vertical-align: middle;\n",
              "    }\n",
              "\n",
              "    .dataframe tbody tr th {\n",
              "        vertical-align: top;\n",
              "    }\n",
              "\n",
              "    .dataframe thead th {\n",
              "        text-align: right;\n",
              "    }\n",
              "</style>\n",
              "<table border=\"1\" class=\"dataframe\">\n",
              "  <thead>\n",
              "    <tr style=\"text-align: right;\">\n",
              "      <th></th>\n",
              "      <th>age</th>\n",
              "      <th>op_year</th>\n",
              "      <th>axil_nodes</th>\n",
              "      <th>Surv_status</th>\n",
              "    </tr>\n",
              "  </thead>\n",
              "  <tbody>\n",
              "    <tr>\n",
              "      <th>0</th>\n",
              "      <td>30</td>\n",
              "      <td>62</td>\n",
              "      <td>3</td>\n",
              "      <td>1</td>\n",
              "    </tr>\n",
              "    <tr>\n",
              "      <th>1</th>\n",
              "      <td>30</td>\n",
              "      <td>65</td>\n",
              "      <td>0</td>\n",
              "      <td>1</td>\n",
              "    </tr>\n",
              "    <tr>\n",
              "      <th>2</th>\n",
              "      <td>31</td>\n",
              "      <td>59</td>\n",
              "      <td>2</td>\n",
              "      <td>1</td>\n",
              "    </tr>\n",
              "    <tr>\n",
              "      <th>3</th>\n",
              "      <td>31</td>\n",
              "      <td>65</td>\n",
              "      <td>4</td>\n",
              "      <td>1</td>\n",
              "    </tr>\n",
              "    <tr>\n",
              "      <th>4</th>\n",
              "      <td>33</td>\n",
              "      <td>58</td>\n",
              "      <td>10</td>\n",
              "      <td>1</td>\n",
              "    </tr>\n",
              "    <tr>\n",
              "      <th>5</th>\n",
              "      <td>33</td>\n",
              "      <td>60</td>\n",
              "      <td>0</td>\n",
              "      <td>1</td>\n",
              "    </tr>\n",
              "    <tr>\n",
              "      <th>6</th>\n",
              "      <td>34</td>\n",
              "      <td>59</td>\n",
              "      <td>0</td>\n",
              "      <td>2</td>\n",
              "    </tr>\n",
              "    <tr>\n",
              "      <th>7</th>\n",
              "      <td>34</td>\n",
              "      <td>66</td>\n",
              "      <td>9</td>\n",
              "      <td>2</td>\n",
              "    </tr>\n",
              "    <tr>\n",
              "      <th>8</th>\n",
              "      <td>34</td>\n",
              "      <td>58</td>\n",
              "      <td>30</td>\n",
              "      <td>1</td>\n",
              "    </tr>\n",
              "    <tr>\n",
              "      <th>9</th>\n",
              "      <td>34</td>\n",
              "      <td>60</td>\n",
              "      <td>1</td>\n",
              "      <td>1</td>\n",
              "    </tr>\n",
              "    <tr>\n",
              "      <th>10</th>\n",
              "      <td>34</td>\n",
              "      <td>61</td>\n",
              "      <td>10</td>\n",
              "      <td>1</td>\n",
              "    </tr>\n",
              "    <tr>\n",
              "      <th>11</th>\n",
              "      <td>34</td>\n",
              "      <td>67</td>\n",
              "      <td>7</td>\n",
              "      <td>1</td>\n",
              "    </tr>\n",
              "    <tr>\n",
              "      <th>12</th>\n",
              "      <td>34</td>\n",
              "      <td>60</td>\n",
              "      <td>0</td>\n",
              "      <td>1</td>\n",
              "    </tr>\n",
              "    <tr>\n",
              "      <th>13</th>\n",
              "      <td>35</td>\n",
              "      <td>64</td>\n",
              "      <td>13</td>\n",
              "      <td>1</td>\n",
              "    </tr>\n",
              "    <tr>\n",
              "      <th>14</th>\n",
              "      <td>35</td>\n",
              "      <td>63</td>\n",
              "      <td>0</td>\n",
              "      <td>1</td>\n",
              "    </tr>\n",
              "  </tbody>\n",
              "</table>\n",
              "</div>\n",
              "      <button class=\"colab-df-convert\" onclick=\"convertToInteractive('df-afd57ed1-9230-418b-8497-87a1e017d5f6')\"\n",
              "              title=\"Convert this dataframe to an interactive table.\"\n",
              "              style=\"display:none;\">\n",
              "        \n",
              "  <svg xmlns=\"http://www.w3.org/2000/svg\" height=\"24px\"viewBox=\"0 0 24 24\"\n",
              "       width=\"24px\">\n",
              "    <path d=\"M0 0h24v24H0V0z\" fill=\"none\"/>\n",
              "    <path d=\"M18.56 5.44l.94 2.06.94-2.06 2.06-.94-2.06-.94-.94-2.06-.94 2.06-2.06.94zm-11 1L8.5 8.5l.94-2.06 2.06-.94-2.06-.94L8.5 2.5l-.94 2.06-2.06.94zm10 10l.94 2.06.94-2.06 2.06-.94-2.06-.94-.94-2.06-.94 2.06-2.06.94z\"/><path d=\"M17.41 7.96l-1.37-1.37c-.4-.4-.92-.59-1.43-.59-.52 0-1.04.2-1.43.59L10.3 9.45l-7.72 7.72c-.78.78-.78 2.05 0 2.83L4 21.41c.39.39.9.59 1.41.59.51 0 1.02-.2 1.41-.59l7.78-7.78 2.81-2.81c.8-.78.8-2.07 0-2.86zM5.41 20L4 18.59l7.72-7.72 1.47 1.35L5.41 20z\"/>\n",
              "  </svg>\n",
              "      </button>\n",
              "      \n",
              "  <style>\n",
              "    .colab-df-container {\n",
              "      display:flex;\n",
              "      flex-wrap:wrap;\n",
              "      gap: 12px;\n",
              "    }\n",
              "\n",
              "    .colab-df-convert {\n",
              "      background-color: #E8F0FE;\n",
              "      border: none;\n",
              "      border-radius: 50%;\n",
              "      cursor: pointer;\n",
              "      display: none;\n",
              "      fill: #1967D2;\n",
              "      height: 32px;\n",
              "      padding: 0 0 0 0;\n",
              "      width: 32px;\n",
              "    }\n",
              "\n",
              "    .colab-df-convert:hover {\n",
              "      background-color: #E2EBFA;\n",
              "      box-shadow: 0px 1px 2px rgba(60, 64, 67, 0.3), 0px 1px 3px 1px rgba(60, 64, 67, 0.15);\n",
              "      fill: #174EA6;\n",
              "    }\n",
              "\n",
              "    [theme=dark] .colab-df-convert {\n",
              "      background-color: #3B4455;\n",
              "      fill: #D2E3FC;\n",
              "    }\n",
              "\n",
              "    [theme=dark] .colab-df-convert:hover {\n",
              "      background-color: #434B5C;\n",
              "      box-shadow: 0px 1px 3px 1px rgba(0, 0, 0, 0.15);\n",
              "      filter: drop-shadow(0px 1px 2px rgba(0, 0, 0, 0.3));\n",
              "      fill: #FFFFFF;\n",
              "    }\n",
              "  </style>\n",
              "\n",
              "      <script>\n",
              "        const buttonEl =\n",
              "          document.querySelector('#df-afd57ed1-9230-418b-8497-87a1e017d5f6 button.colab-df-convert');\n",
              "        buttonEl.style.display =\n",
              "          google.colab.kernel.accessAllowed ? 'block' : 'none';\n",
              "\n",
              "        async function convertToInteractive(key) {\n",
              "          const element = document.querySelector('#df-afd57ed1-9230-418b-8497-87a1e017d5f6');\n",
              "          const dataTable =\n",
              "            await google.colab.kernel.invokeFunction('convertToInteractive',\n",
              "                                                     [key], {});\n",
              "          if (!dataTable) return;\n",
              "\n",
              "          const docLinkHtml = 'Like what you see? Visit the ' +\n",
              "            '<a target=\"_blank\" href=https://colab.research.google.com/notebooks/data_table.ipynb>data table notebook</a>'\n",
              "            + ' to learn more about interactive tables.';\n",
              "          element.innerHTML = '';\n",
              "          dataTable['output_type'] = 'display_data';\n",
              "          await google.colab.output.renderOutput(dataTable, element);\n",
              "          const docLink = document.createElement('div');\n",
              "          docLink.innerHTML = docLinkHtml;\n",
              "          element.appendChild(docLink);\n",
              "        }\n",
              "      </script>\n",
              "    </div>\n",
              "  </div>\n",
              "  "
            ],
            "text/plain": [
              "    age  op_year  axil_nodes  Surv_status\n",
              "0    30       62           3            1\n",
              "1    30       65           0            1\n",
              "2    31       59           2            1\n",
              "3    31       65           4            1\n",
              "4    33       58          10            1\n",
              "5    33       60           0            1\n",
              "6    34       59           0            2\n",
              "7    34       66           9            2\n",
              "8    34       58          30            1\n",
              "9    34       60           1            1\n",
              "10   34       61          10            1\n",
              "11   34       67           7            1\n",
              "12   34       60           0            1\n",
              "13   35       64          13            1\n",
              "14   35       63           0            1"
            ]
          },
          "metadata": {},
          "execution_count": 45
        }
      ]
    },
    {
      "cell_type": "code",
      "source": [
        "haberman.info()"
      ],
      "metadata": {
        "colab": {
          "base_uri": "https://localhost:8080/"
        },
        "id": "gIVjxiAJvhHV",
        "outputId": "ec87123b-aafc-4d00-deb8-b06036ebd1bf"
      },
      "execution_count": null,
      "outputs": [
        {
          "output_type": "stream",
          "name": "stdout",
          "text": [
            "<class 'pandas.core.frame.DataFrame'>\n",
            "RangeIndex: 305 entries, 0 to 304\n",
            "Data columns (total 4 columns):\n",
            " #   Column       Non-Null Count  Dtype\n",
            "---  ------       --------------  -----\n",
            " 0   age          305 non-null    int64\n",
            " 1   op_year      305 non-null    int64\n",
            " 2   axil_nodes   305 non-null    int64\n",
            " 3   Surv_status  305 non-null    int64\n",
            "dtypes: int64(4)\n",
            "memory usage: 9.7 KB\n"
          ]
        }
      ]
    },
    {
      "cell_type": "markdown",
      "source": [
        "the data set contains only numeric values and also its has 0 null values"
      ],
      "metadata": {
        "id": "8q2f-pbZvwUy"
      }
    },
    {
      "cell_type": "code",
      "source": [
        "haberman.describe()"
      ],
      "metadata": {
        "colab": {
          "base_uri": "https://localhost:8080/",
          "height": 300
        },
        "id": "20jyF9RmvkRW",
        "outputId": "a4ecb2f8-bc94-431b-e933-c3ad2f54d444"
      },
      "execution_count": null,
      "outputs": [
        {
          "output_type": "execute_result",
          "data": {
            "text/html": [
              "\n",
              "  <div id=\"df-cfe2836c-3769-451a-9d66-9f4762d73297\">\n",
              "    <div class=\"colab-df-container\">\n",
              "      <div>\n",
              "<style scoped>\n",
              "    .dataframe tbody tr th:only-of-type {\n",
              "        vertical-align: middle;\n",
              "    }\n",
              "\n",
              "    .dataframe tbody tr th {\n",
              "        vertical-align: top;\n",
              "    }\n",
              "\n",
              "    .dataframe thead th {\n",
              "        text-align: right;\n",
              "    }\n",
              "</style>\n",
              "<table border=\"1\" class=\"dataframe\">\n",
              "  <thead>\n",
              "    <tr style=\"text-align: right;\">\n",
              "      <th></th>\n",
              "      <th>age</th>\n",
              "      <th>op_year</th>\n",
              "      <th>axil_nodes</th>\n",
              "      <th>Surv_status</th>\n",
              "    </tr>\n",
              "  </thead>\n",
              "  <tbody>\n",
              "    <tr>\n",
              "      <th>count</th>\n",
              "      <td>305.000000</td>\n",
              "      <td>305.000000</td>\n",
              "      <td>305.000000</td>\n",
              "      <td>305.000000</td>\n",
              "    </tr>\n",
              "    <tr>\n",
              "      <th>mean</th>\n",
              "      <td>52.531148</td>\n",
              "      <td>62.849180</td>\n",
              "      <td>4.036066</td>\n",
              "      <td>1.265574</td>\n",
              "    </tr>\n",
              "    <tr>\n",
              "      <th>std</th>\n",
              "      <td>10.744024</td>\n",
              "      <td>3.254078</td>\n",
              "      <td>7.199370</td>\n",
              "      <td>0.442364</td>\n",
              "    </tr>\n",
              "    <tr>\n",
              "      <th>min</th>\n",
              "      <td>30.000000</td>\n",
              "      <td>58.000000</td>\n",
              "      <td>0.000000</td>\n",
              "      <td>1.000000</td>\n",
              "    </tr>\n",
              "    <tr>\n",
              "      <th>25%</th>\n",
              "      <td>44.000000</td>\n",
              "      <td>60.000000</td>\n",
              "      <td>0.000000</td>\n",
              "      <td>1.000000</td>\n",
              "    </tr>\n",
              "    <tr>\n",
              "      <th>50%</th>\n",
              "      <td>52.000000</td>\n",
              "      <td>63.000000</td>\n",
              "      <td>1.000000</td>\n",
              "      <td>1.000000</td>\n",
              "    </tr>\n",
              "    <tr>\n",
              "      <th>75%</th>\n",
              "      <td>61.000000</td>\n",
              "      <td>66.000000</td>\n",
              "      <td>4.000000</td>\n",
              "      <td>2.000000</td>\n",
              "    </tr>\n",
              "    <tr>\n",
              "      <th>max</th>\n",
              "      <td>83.000000</td>\n",
              "      <td>69.000000</td>\n",
              "      <td>52.000000</td>\n",
              "      <td>2.000000</td>\n",
              "    </tr>\n",
              "  </tbody>\n",
              "</table>\n",
              "</div>\n",
              "      <button class=\"colab-df-convert\" onclick=\"convertToInteractive('df-cfe2836c-3769-451a-9d66-9f4762d73297')\"\n",
              "              title=\"Convert this dataframe to an interactive table.\"\n",
              "              style=\"display:none;\">\n",
              "        \n",
              "  <svg xmlns=\"http://www.w3.org/2000/svg\" height=\"24px\"viewBox=\"0 0 24 24\"\n",
              "       width=\"24px\">\n",
              "    <path d=\"M0 0h24v24H0V0z\" fill=\"none\"/>\n",
              "    <path d=\"M18.56 5.44l.94 2.06.94-2.06 2.06-.94-2.06-.94-.94-2.06-.94 2.06-2.06.94zm-11 1L8.5 8.5l.94-2.06 2.06-.94-2.06-.94L8.5 2.5l-.94 2.06-2.06.94zm10 10l.94 2.06.94-2.06 2.06-.94-2.06-.94-.94-2.06-.94 2.06-2.06.94z\"/><path d=\"M17.41 7.96l-1.37-1.37c-.4-.4-.92-.59-1.43-.59-.52 0-1.04.2-1.43.59L10.3 9.45l-7.72 7.72c-.78.78-.78 2.05 0 2.83L4 21.41c.39.39.9.59 1.41.59.51 0 1.02-.2 1.41-.59l7.78-7.78 2.81-2.81c.8-.78.8-2.07 0-2.86zM5.41 20L4 18.59l7.72-7.72 1.47 1.35L5.41 20z\"/>\n",
              "  </svg>\n",
              "      </button>\n",
              "      \n",
              "  <style>\n",
              "    .colab-df-container {\n",
              "      display:flex;\n",
              "      flex-wrap:wrap;\n",
              "      gap: 12px;\n",
              "    }\n",
              "\n",
              "    .colab-df-convert {\n",
              "      background-color: #E8F0FE;\n",
              "      border: none;\n",
              "      border-radius: 50%;\n",
              "      cursor: pointer;\n",
              "      display: none;\n",
              "      fill: #1967D2;\n",
              "      height: 32px;\n",
              "      padding: 0 0 0 0;\n",
              "      width: 32px;\n",
              "    }\n",
              "\n",
              "    .colab-df-convert:hover {\n",
              "      background-color: #E2EBFA;\n",
              "      box-shadow: 0px 1px 2px rgba(60, 64, 67, 0.3), 0px 1px 3px 1px rgba(60, 64, 67, 0.15);\n",
              "      fill: #174EA6;\n",
              "    }\n",
              "\n",
              "    [theme=dark] .colab-df-convert {\n",
              "      background-color: #3B4455;\n",
              "      fill: #D2E3FC;\n",
              "    }\n",
              "\n",
              "    [theme=dark] .colab-df-convert:hover {\n",
              "      background-color: #434B5C;\n",
              "      box-shadow: 0px 1px 3px 1px rgba(0, 0, 0, 0.15);\n",
              "      filter: drop-shadow(0px 1px 2px rgba(0, 0, 0, 0.3));\n",
              "      fill: #FFFFFF;\n",
              "    }\n",
              "  </style>\n",
              "\n",
              "      <script>\n",
              "        const buttonEl =\n",
              "          document.querySelector('#df-cfe2836c-3769-451a-9d66-9f4762d73297 button.colab-df-convert');\n",
              "        buttonEl.style.display =\n",
              "          google.colab.kernel.accessAllowed ? 'block' : 'none';\n",
              "\n",
              "        async function convertToInteractive(key) {\n",
              "          const element = document.querySelector('#df-cfe2836c-3769-451a-9d66-9f4762d73297');\n",
              "          const dataTable =\n",
              "            await google.colab.kernel.invokeFunction('convertToInteractive',\n",
              "                                                     [key], {});\n",
              "          if (!dataTable) return;\n",
              "\n",
              "          const docLinkHtml = 'Like what you see? Visit the ' +\n",
              "            '<a target=\"_blank\" href=https://colab.research.google.com/notebooks/data_table.ipynb>data table notebook</a>'\n",
              "            + ' to learn more about interactive tables.';\n",
              "          element.innerHTML = '';\n",
              "          dataTable['output_type'] = 'display_data';\n",
              "          await google.colab.output.renderOutput(dataTable, element);\n",
              "          const docLink = document.createElement('div');\n",
              "          docLink.innerHTML = docLinkHtml;\n",
              "          element.appendChild(docLink);\n",
              "        }\n",
              "      </script>\n",
              "    </div>\n",
              "  </div>\n",
              "  "
            ],
            "text/plain": [
              "              age     op_year  axil_nodes  Surv_status\n",
              "count  305.000000  305.000000  305.000000   305.000000\n",
              "mean    52.531148   62.849180    4.036066     1.265574\n",
              "std     10.744024    3.254078    7.199370     0.442364\n",
              "min     30.000000   58.000000    0.000000     1.000000\n",
              "25%     44.000000   60.000000    0.000000     1.000000\n",
              "50%     52.000000   63.000000    1.000000     1.000000\n",
              "75%     61.000000   66.000000    4.000000     2.000000\n",
              "max     83.000000   69.000000   52.000000     2.000000"
            ]
          },
          "metadata": {},
          "execution_count": 47
        }
      ]
    },
    {
      "cell_type": "code",
      "source": [
        "haberman['Surv_status'].value_counts()"
      ],
      "metadata": {
        "colab": {
          "base_uri": "https://localhost:8080/"
        },
        "id": "Tuw3aauhxVUM",
        "outputId": "f5dc703b-fa69-4750-967a-0531e9a46bf3"
      },
      "execution_count": null,
      "outputs": [
        {
          "output_type": "execute_result",
          "data": {
            "text/plain": [
              "1    224\n",
              "2     81\n",
              "Name: Surv_status, dtype: int64"
            ]
          },
          "metadata": {},
          "execution_count": 48
        }
      ]
    },
    {
      "cell_type": "markdown",
      "source": [
        "Count of people that survived the disease for 5 years or longer are 225 and the ones who died within 5 years are 81.\n",
        "\n",
        "*   1 the patient survived 5 years or longer = 224\n",
        "*   2 the patient died within 5 year = 81"
      ],
      "metadata": {
        "id": "1xVd2HAH0F7Z"
      }
    },
    {
      "cell_type": "code",
      "source": [
        "haberman['Surv_status'] = haberman['Surv_status'].map({1:\"yes\", 2:\"no\"})\n",
        "#Updated survival_status\n",
        "haberman[\"Surv_status\"].value_counts()"
      ],
      "metadata": {
        "colab": {
          "base_uri": "https://localhost:8080/"
        },
        "id": "OjaUUWPL1afL",
        "outputId": "bf1c9f0c-c48a-4be3-cf15-ca0c3fcd50be"
      },
      "execution_count": null,
      "outputs": [
        {
          "output_type": "execute_result",
          "data": {
            "text/plain": [
              "yes    224\n",
              "no      81\n",
              "Name: Surv_status, dtype: int64"
            ]
          },
          "metadata": {},
          "execution_count": 49
        }
      ]
    },
    {
      "cell_type": "code",
      "source": [
        "#survival status according to all classes\n",
        "print(haberman.groupby(\"Surv_status\").count())"
      ],
      "metadata": {
        "colab": {
          "base_uri": "https://localhost:8080/"
        },
        "id": "VjJWBTS_2Lhc",
        "outputId": "8e2ece0d-16d3-48c2-cf50-bb553bfe8e80"
      },
      "execution_count": null,
      "outputs": [
        {
          "output_type": "stream",
          "name": "stdout",
          "text": [
            "             age  op_year  axil_nodes\n",
            "Surv_status                          \n",
            "no            81       81          81\n",
            "yes          224      224         224\n"
          ]
        }
      ]
    },
    {
      "cell_type": "markdown",
      "source": [
        "## Analysis of Dataset through Mean, Variance and Standard deviation :"
      ],
      "metadata": {
        "id": "3ysOrw_S91UJ"
      }
    },
    {
      "cell_type": "code",
      "source": [
        "#classififcation of Survival data and not Survival data\n",
        "status_yes = haberman.loc[haberman[\"Surv_status\"] == \"yes\"]\n",
        "\n",
        "print(\"SURVIVAL STATUS : YES -> STATISTICS :\")\n",
        "print('-'*40,'\\n')\n",
        "print(status_yes.describe())"
      ],
      "metadata": {
        "id": "ZVPCW_3898Ae",
        "colab": {
          "base_uri": "https://localhost:8080/"
        },
        "outputId": "1ddb063f-165b-4b6a-affa-677fde67149f"
      },
      "execution_count": null,
      "outputs": [
        {
          "output_type": "stream",
          "name": "stdout",
          "text": [
            "SURVIVAL STATUS : YES -> STATISTICS :\n",
            "---------------------------------------- \n",
            "\n",
            "              age     op_year  axil_nodes\n",
            "count  224.000000  224.000000  224.000000\n",
            "mean    52.116071   62.857143    2.799107\n",
            "std     10.937446    3.229231    5.882237\n",
            "min     30.000000   58.000000    0.000000\n",
            "25%     43.000000   60.000000    0.000000\n",
            "50%     52.000000   63.000000    0.000000\n",
            "75%     60.000000   66.000000    3.000000\n",
            "max     77.000000   69.000000   46.000000\n"
          ]
        }
      ]
    },
    {
      "cell_type": "markdown",
      "source": [
        "*   Number of people survived : 225\n",
        "*   average age of people that survived : 52\n",
        "*   minimum age of people that survived : 30\n",
        "*   maximum age of people that survived : 77"
      ],
      "metadata": {
        "id": "0bE4IkXs_-mh"
      }
    },
    {
      "cell_type": "code",
      "source": [
        "status_no = haberman.loc[haberman[\"Surv_status\"] == \"no\"]\n",
        "\n",
        "print(\"SURVIVAL STATUS : NO -> STATISTICS :\")\n",
        "print('-'*40,'\\n')\n",
        "print(status_no.describe())"
      ],
      "metadata": {
        "colab": {
          "base_uri": "https://localhost:8080/"
        },
        "id": "5FTIFrne__Gj",
        "outputId": "c0bd372d-a48d-452a-dc42-62123dc30d11"
      },
      "execution_count": null,
      "outputs": [
        {
          "output_type": "stream",
          "name": "stdout",
          "text": [
            "SURVIVAL STATUS : NO -> STATISTICS :\n",
            "---------------------------------------- \n",
            "\n",
            "             age    op_year  axil_nodes\n",
            "count  81.000000  81.000000   81.000000\n",
            "mean   53.679012  62.827160    7.456790\n",
            "std    10.167137   3.342118    9.185654\n",
            "min    34.000000  58.000000    0.000000\n",
            "25%    46.000000  59.000000    1.000000\n",
            "50%    53.000000  63.000000    4.000000\n",
            "75%    61.000000  65.000000   11.000000\n",
            "max    83.000000  69.000000   52.000000\n"
          ]
        }
      ]
    },
    {
      "cell_type": "markdown",
      "source": [
        "*   Number of people who did not survive : 81\n",
        "*  average age of people who did not survive : 53\n",
        "*  minimum age of people who did not survive : 34\n",
        "*  maximum age of people who did not survive : 83"
      ],
      "metadata": {
        "id": "to2QwtYUAr2T"
      }
    },
    {
      "cell_type": "code",
      "source": [
        "#Median of Survival data\n",
        "print(\"MEDIANS :\\n\")\n",
        "print(\"Median age of the people who survived : \",np.median(status_yes[\"age\"]))\n",
        "print(\"Median age of the people who could not survive : \", np.median(status_no[\"age\"]))\n",
        "print(\"Median Positive axillary nodes in the people who survived : \", np.median(status_yes[\"axil_nodes\"]))\n",
        "print(\"Median Positive axillary nodes in the people who could not survive :  \", np.median(status_no[\"axil_nodes\"]))\n",
        "print('_'*75,'\\n')"
      ],
      "metadata": {
        "colab": {
          "base_uri": "https://localhost:8080/"
        },
        "id": "z8X-TZKUBQ7i",
        "outputId": "b8f350eb-41ad-44e3-9e5b-b842a73ea67e"
      },
      "execution_count": null,
      "outputs": [
        {
          "output_type": "stream",
          "name": "stdout",
          "text": [
            "MEDIANS :\n",
            "\n",
            "Median age of the people who survived :  52.0\n",
            "Median age of the people who could not survive :  53.0\n",
            "Median Positive axillary nodes in the people who survived :  0.0\n",
            "Median Positive axillary nodes in the people who could not survive :   4.0\n",
            "___________________________________________________________________________ \n",
            "\n"
          ]
        }
      ]
    },
    {
      "cell_type": "code",
      "source": [
        "print(\"QUANTILES :\\n\")\n",
        "print(\"Survival status : Yes\")\n",
        "print(\"AGE :\",np.percentile(status_yes[\"age\"], np.arange(0, 100, 25)))\n",
        "print(\"NODES : \", np.percentile(status_yes[\"axil_nodes\"], np.arange(0,100,25)))\n",
        "print('-'*40)\n",
        "\n",
        "print(\"Survival Status : No\")\n",
        "print(\"AGE :\",np.percentile(status_no[\"age\"], np.arange(0, 100, 25)))\n",
        "print(\"NODES : \", np.percentile(status_no[\"axil_nodes\"], np.arange(0,100,25)))\n",
        "print('_'*75,'\\n')"
      ],
      "metadata": {
        "colab": {
          "base_uri": "https://localhost:8080/"
        },
        "id": "_FAx99F5B5fe",
        "outputId": "3efe5316-1a54-4cc6-bc3c-9418e7865ff5"
      },
      "execution_count": null,
      "outputs": [
        {
          "output_type": "stream",
          "name": "stdout",
          "text": [
            "QUANTILES :\n",
            "\n",
            "Survival status : Yes\n",
            "AGE : [30. 43. 52. 60.]\n",
            "NODES :  [0. 0. 0. 3.]\n",
            "----------------------------------------\n",
            "Survival Status : No\n",
            "AGE : [34. 46. 53. 61.]\n",
            "NODES :  [ 0.  1.  4. 11.]\n",
            "___________________________________________________________________________ \n",
            "\n"
          ]
        }
      ]
    },
    {
      "cell_type": "markdown",
      "source": [
        "## Representation of Data on graph"
      ],
      "metadata": {
        "id": "zVRPOsCl3Eqq"
      }
    },
    {
      "cell_type": "code",
      "source": [
        "#simple graph \n",
        "x = haberman.age\n",
        "y = haberman.axil_nodes\n",
        "\n",
        "plt.figure(figsize=(10,10))\n",
        "plt.scatter(x, y)\n",
        "plt.grid()   #grid on graph\n",
        "\n",
        "plt.title('chart of Auxil nodes based on age')  #title for graph\n",
        "plt.xlabel('Age')\n",
        "plt.ylabel('axil_nodes')\n",
        "\n",
        "plt.show()"
      ],
      "metadata": {
        "colab": {
          "base_uri": "https://localhost:8080/",
          "height": 621
        },
        "id": "oMeAz89l2l8Z",
        "outputId": "6b6a550b-e56a-45e1-82e9-8404dd55d59a"
      },
      "execution_count": null,
      "outputs": [
        {
          "output_type": "display_data",
          "data": {
            "image/png": "[encoded data removed]",
            "text/plain": [
              "<Figure size 720x720 with 1 Axes>"
            ]
          },
          "metadata": {
            "needs_background": "light"
          }
        }
      ]
    },
    {
      "cell_type": "markdown",
      "source": [
        "Auxillary node=0 has the highest Survival rate as shown in graph.\n"
      ],
      "metadata": {
        "id": "cPpbMl1uFwKV"
      }
    },
    {
      "cell_type": "code",
      "source": [
        "x = haberman.age\n",
        "y = haberman.Surv_status\n",
        "\n",
        "plt.figure(figsize=(8,6))\n",
        "plt.bar(x, y)\n",
        "plt.grid()   #grid on graph\n",
        "\n",
        "plt.title('chart of Survival status based on age')  #title for graph\n",
        "plt.xlabel('Age')\n",
        "plt.ylabel('Surv_status')\n",
        "\n",
        "plt.show()"
      ],
      "metadata": {
        "colab": {
          "base_uri": "https://localhost:8080/",
          "height": 404
        },
        "id": "d8kjld-wDahJ",
        "outputId": "c51e5b5e-d704-4422-b2a5-94c734d8bff2"
      },
      "execution_count": null,
      "outputs": [
        {
          "output_type": "display_data",
          "data": {
            "image/png": "[encoded data removed]",
            "text/plain": [
              "<Figure size 576x432 with 1 Axes>"
            ]
          },
          "metadata": {
            "needs_background": "light"
          }
        }
      ]
    },
    {
      "cell_type": "markdown",
      "source": [
        "age range 40-60 have survived the most."
      ],
      "metadata": {
        "id": "IamVSIbmF04S"
      }
    },
    {
      "cell_type": "code",
      "source": [
        "sns.FacetGrid(haberman, hue=\"Surv_status\", height=5).map(plt.scatter, \"age\", \"axil_nodes\").add_legend()\n",
        "plt.grid()\n",
        "plt.show()"
      ],
      "metadata": {
        "colab": {
          "base_uri": "https://localhost:8080/",
          "height": 369
        },
        "id": "CA0B3EhIFX1O",
        "outputId": "5888e64d-1a56-430f-fc0d-e776900db29b"
      },
      "execution_count": 89,
      "outputs": [
        {
          "output_type": "display_data",
          "data": {
            "image/png": "[encoded data removed]",
            "text/plain": [
              "<Figure size 426.375x360 with 1 Axes>"
            ]
          },
          "metadata": {
            "needs_background": "light"
          }
        }
      ]
    },
    {
      "cell_type": "markdown",
      "source": [
        "age range 50-60 have survived the most with positive axillary nodes detected 0."
      ],
      "metadata": {
        "id": "aROnXgYgHAvi"
      }
    },
    {
      "cell_type": "markdown",
      "source": [
        "## 3D scatter plot"
      ],
      "metadata": {
        "id": "UXZRyw-kHQ4z"
      }
    },
    {
      "cell_type": "code",
      "source": [
        "#plotly for 3D scatter plot\n",
        "import plotly.express as px"
      ],
      "metadata": {
        "id": "OHaqVObaH3OT"
      },
      "execution_count": 91,
      "outputs": []
    },
    {
      "cell_type": "code",
      "source": [
        "px.scatter_3d(haberman, x=\"age\", y=\"axil_nodes\", z=\"op_year\", color=\"Surv_status\")"
      ],
      "metadata": {
        "colab": {
          "base_uri": "https://localhost:8080/",
          "height": 542
        },
        "id": "PiDUR2EDHU8j",
        "outputId": "a405348f-c4ac-4618-df13-840fd8b5bdce"
      },
      "execution_count": 92,
      "outputs": [
        {
          "output_type": "display_data",
          "data": {
            "text/html": [
              "<html>\n",
              "<head><meta charset=\"utf-8\" /></head>\n",
              "<body>\n",
              "    <div>            <script src=\"https://cdnjs.cloudflare.com/ajax/libs/mathjax/2.7.5/MathJax.js?config=TeX-AMS-MML_SVG\"></script><script type=\"text/javascript\">if (window.MathJax) {MathJax.Hub.Config({SVG: {font: \"STIX-Web\"}});}</script>                <script type=\"text/javascript\">window.PlotlyConfig = {MathJaxConfig: 'local'};</script>\n",
              "        <script src=\"https://cdn.plot.ly/plotly-2.8.3.min.js\"></script>                <div id=\"235c394c-99ce-4e18-adba-e9d68d8f8286\" class=\"plotly-graph-div\" style=\"height:525px; width:100%;\"></div>            <script type=\"text/javascript\">                                    window.PLOTLYENV=window.PLOTLYENV || {};                                    if (document.getElementById(\"235c394c-99ce-4e18-adba-e9d68d8f8286\")) {                    Plotly.newPlot(                        \"235c394c-99ce-4e18-adba-e9d68d8f8286\",                        [{\"hovertemplate\":\"Surv_status=yes<br>age=%{x}<br>axil_nodes=%{y}<br>op_year=%{z}<extra></extra>\",\"legendgroup\":\"yes\",\"marker\":{\"color\":\"#636efa\",\"symbol\":\"circle\"},\"mode\":\"markers\",\"name\":\"yes\",\"scene\":\"scene\",\"showlegend\":true,\"x\":[30,30,31,31,33,33,34,34,34,34,34,35,35,36,36,37,37,37,37,37,37,38,38,38,38,38,38,38,38,38,39,39,39,39,39,40,40,40,41,41,41,41,41,41,41,42,42,42,42,42,42,42,43,43,43,43,43,43,43,44,44,44,44,45,45,45,45,45,45,46,46,46,47,47,47,47,47,47,47,47,48,48,48,48,49,49,49,49,49,49,49,49,50,50,50,50,50,50,50,50,50,50,51,51,51,51,52,52,52,52,52,52,52,52,52,52,53,53,53,53,53,54,54,54,54,54,54,54,54,54,55,55,55,55,55,55,55,55,56,56,56,56,56,57,57,57,57,57,57,57,57,58,58,58,58,58,58,58,59,59,59,59,59,59,59,60,60,60,60,61,61,61,61,61,61,62,62,62,62,63,63,63,63,63,63,63,64,64,64,64,64,65,65,65,65,65,65,66,66,66,67,67,67,67,68,68,69,69,69,70,70,70,70,70,71,72,72,72,73,73,74,75,76,77],\"y\":[3,0,2,4,10,0,30,1,10,7,0,13,0,1,0,0,0,0,6,15,0,2,0,0,3,1,0,11,1,5,0,0,0,2,4,2,0,0,0,8,0,0,8,0,0,0,1,2,4,20,0,1,14,2,3,0,2,0,4,0,1,0,16,0,0,14,0,0,1,0,3,0,0,6,0,0,3,4,4,12,8,2,0,0,1,0,0,1,1,3,0,1,0,6,0,1,1,2,0,0,4,1,7,1,0,1,0,4,0,4,5,0,1,0,0,0,1,1,2,1,0,7,3,0,46,0,7,19,1,0,1,0,1,18,0,3,22,1,0,2,1,0,0,9,0,0,0,0,0,0,0,0,3,1,0,0,3,2,0,0,1,4,0,7,3,1,2,25,0,0,0,0,8,0,0,6,0,0,0,0,0,0,0,0,9,28,0,22,0,0,0,0,0,0,2,0,1,0,1,0,0,0,0,0,0,0,0,0,0,14,0,0,8,0,2,0,0,3,0,0,0,1,0,3],\"z\":[62,65,59,65,58,60,58,60,61,67,60,64,63,60,69,60,63,58,59,60,63,59,60,60,62,64,66,66,60,67,63,67,58,59,63,58,58,65,58,59,59,64,69,65,65,58,60,59,61,62,65,63,63,64,64,60,63,65,66,61,63,61,67,60,67,59,64,68,67,62,58,63,61,63,66,67,58,60,68,66,61,62,64,66,61,62,66,60,62,63,61,67,59,61,61,63,58,59,61,64,65,66,64,59,65,66,61,63,69,60,60,62,62,64,65,68,58,60,60,61,63,59,60,66,67,62,69,63,58,62,58,58,58,66,66,69,69,67,60,66,66,67,60,64,69,61,62,63,64,64,67,59,60,61,67,58,58,61,60,63,64,64,64,64,67,61,67,61,64,59,59,64,65,68,59,62,66,66,58,61,62,63,63,66,61,61,58,65,66,61,68,58,64,67,59,64,67,58,58,68,66,66,61,65,67,68,60,65,66,66,67,68,59,63,68,58,64,67,62,68,63,62,67,65],\"type\":\"scatter3d\"},{\"hovertemplate\":\"Surv_status=no<br>age=%{x}<br>axil_nodes=%{y}<br>op_year=%{z}<extra></extra>\",\"legendgroup\":\"no\",\"marker\":{\"color\":\"#EF553B\",\"symbol\":\"circle\"},\"mode\":\"markers\",\"name\":\"no\",\"scene\":\"scene\",\"showlegend\":true,\"x\":[34,34,38,39,41,41,41,42,42,43,43,43,43,44,44,44,45,45,45,46,46,46,46,47,47,47,48,48,48,49,49,50,50,51,51,52,52,52,52,53,53,53,53,53,53,54,54,54,54,55,55,56,56,57,57,57,59,60,60,61,61,61,62,62,62,63,65,65,65,65,66,66,67,67,69,70,70,72,74,78,83],\"y\":[0,9,21,0,23,0,0,1,0,52,2,0,0,6,9,19,6,0,1,2,3,5,20,23,0,0,11,11,7,0,10,13,0,13,3,3,2,3,4,4,1,3,9,24,12,11,23,5,7,6,15,9,3,5,14,1,35,17,0,5,0,1,13,0,19,1,0,2,22,15,0,13,8,1,8,0,4,0,3,1,2],\"z\":[59,66,69,66,60,64,67,69,59,58,59,64,64,64,58,63,65,66,67,58,69,62,65,63,62,65,58,58,67,63,64,63,64,59,59,69,59,62,66,58,65,59,60,63,65,60,65,65,68,63,68,65,66,61,62,64,62,59,65,62,65,68,59,58,65,60,58,61,62,66,58,61,64,63,67,58,58,63,65,65,58],\"type\":\"scatter3d\"}],                        {\"template\":{\"data\":{\"bar\":[{\"error_x\":{\"color\":\"#2a3f5f\"},\"error_y\":{\"color\":\"#2a3f5f\"},\"marker\":{\"line\":{\"color\":\"#E5ECF6\",\"width\":0.5},\"pattern\":{\"fillmode\":\"overlay\",\"size\":10,\"solidity\":0.2}},\"type\":\"bar\"}],\"barpolar\":[{\"marker\":{\"line\":{\"color\":\"#E5ECF6\",\"width\":0.5},\"pattern\":{\"fillmode\":\"overlay\",\"size\":10,\"solidity\":0.2}},\"type\":\"barpolar\"}],\"carpet\":[{\"aaxis\":{\"endlinecolor\":\"#2a3f5f\",\"gridcolor\":\"white\",\"linecolor\":\"white\",\"minorgridcolor\":\"white\",\"startlinecolor\":\"#2a3f5f\"},\"baxis\":{\"endlinecolor\":\"#2a3f5f\",\"gridcolor\":\"white\",\"linecolor\":\"white\",\"minorgridcolor\":\"white\",\"startlinecolor\":\"#2a3f5f\"},\"type\":\"carpet\"}],\"choropleth\":[{\"colorbar\":{\"outlinewidth\":0,\"ticks\":\"\"},\"type\":\"choropleth\"}],\"contour\":[{\"colorbar\":{\"outlinewidth\":0,\"ticks\":\"\"},\"colorscale\":[[0.0,\"#0d0887\"],[0.1111111111111111,\"#46039f\"],[0.2222222222222222,\"#7201a8\"],[0.3333333333333333,\"#9c179e\"],[0.4444444444444444,\"#bd3786\"],[0.5555555555555556,\"#d8576b\"],[0.6666666666666666,\"#ed7953\"],[0.7777777777777778,\"#fb9f3a\"],[0.8888888888888888,\"#fdca26\"],[1.0,\"#f0f921\"]],\"type\":\"contour\"}],\"contourcarpet\":[{\"colorbar\":{\"outlinewidth\":0,\"ticks\":\"\"},\"type\":\"contourcarpet\"}],\"heatmap\":[{\"colorbar\":{\"outlinewidth\":0,\"ticks\":\"\"},\"colorscale\":[[0.0,\"#0d0887\"],[0.1111111111111111,\"#46039f\"],[0.2222222222222222,\"#7201a8\"],[0.3333333333333333,\"#9c179e\"],[0.4444444444444444,\"#bd3786\"],[0.5555555555555556,\"#d8576b\"],[0.6666666666666666,\"#ed7953\"],[0.7777777777777778,\"#fb9f3a\"],[0.8888888888888888,\"#fdca26\"],[1.0,\"#f0f921\"]],\"type\":\"heatmap\"}],\"heatmapgl\":[{\"colorbar\":{\"outlinewidth\":0,\"ticks\":\"\"},\"colorscale\":[[0.0,\"#0d0887\"],[0.1111111111111111,\"#46039f\"],[0.2222222222222222,\"#7201a8\"],[0.3333333333333333,\"#9c179e\"],[0.4444444444444444,\"#bd3786\"],[0.5555555555555556,\"#d8576b\"],[0.6666666666666666,\"#ed7953\"],[0.7777777777777778,\"#fb9f3a\"],[0.8888888888888888,\"#fdca26\"],[1.0,\"#f0f921\"]],\"type\":\"heatmapgl\"}],\"histogram\":[{\"marker\":{\"pattern\":{\"fillmode\":\"overlay\",\"size\":10,\"solidity\":0.2}},\"type\":\"histogram\"}],\"histogram2d\":[{\"colorbar\":{\"outlinewidth\":0,\"ticks\":\"\"},\"colorscale\":[[0.0,\"#0d0887\"],[0.1111111111111111,\"#46039f\"],[0.2222222222222222,\"#7201a8\"],[0.3333333333333333,\"#9c179e\"],[0.4444444444444444,\"#bd3786\"],[0.5555555555555556,\"#d8576b\"],[0.6666666666666666,\"#ed7953\"],[0.7777777777777778,\"#fb9f3a\"],[0.8888888888888888,\"#fdca26\"],[1.0,\"#f0f921\"]],\"type\":\"histogram2d\"}],\"histogram2dcontour\":[{\"colorbar\":{\"outlinewidth\":0,\"ticks\":\"\"},\"colorscale\":[[0.0,\"#0d0887\"],[0.1111111111111111,\"#46039f\"],[0.2222222222222222,\"#7201a8\"],[0.3333333333333333,\"#9c179e\"],[0.4444444444444444,\"#bd3786\"],[0.5555555555555556,\"#d8576b\"],[0.6666666666666666,\"#ed7953\"],[0.7777777777777778,\"#fb9f3a\"],[0.8888888888888888,\"#fdca26\"],[1.0,\"#f0f921\"]],\"type\":\"histogram2dcontour\"}],\"mesh3d\":[{\"colorbar\":{\"outlinewidth\":0,\"ticks\":\"\"},\"type\":\"mesh3d\"}],\"parcoords\":[{\"line\":{\"colorbar\":{\"outlinewidth\":0,\"ticks\":\"\"}},\"type\":\"parcoords\"}],\"pie\":[{\"automargin\":true,\"type\":\"pie\"}],\"scatter\":[{\"marker\":{\"colorbar\":{\"outlinewidth\":0,\"ticks\":\"\"}},\"type\":\"scatter\"}],\"scatter3d\":[{\"line\":{\"colorbar\":{\"outlinewidth\":0,\"ticks\":\"\"}},\"marker\":{\"colorbar\":{\"outlinewidth\":0,\"ticks\":\"\"}},\"type\":\"scatter3d\"}],\"scattercarpet\":[{\"marker\":{\"colorbar\":{\"outlinewidth\":0,\"ticks\":\"\"}},\"type\":\"scattercarpet\"}],\"scattergeo\":[{\"marker\":{\"colorbar\":{\"outlinewidth\":0,\"ticks\":\"\"}},\"type\":\"scattergeo\"}],\"scattergl\":[{\"marker\":{\"colorbar\":{\"outlinewidth\":0,\"ticks\":\"\"}},\"type\":\"scattergl\"}],\"scattermapbox\":[{\"marker\":{\"colorbar\":{\"outlinewidth\":0,\"ticks\":\"\"}},\"type\":\"scattermapbox\"}],\"scatterpolar\":[{\"marker\":{\"colorbar\":{\"outlinewidth\":0,\"ticks\":\"\"}},\"type\":\"scatterpolar\"}],\"scatterpolargl\":[{\"marker\":{\"colorbar\":{\"outlinewidth\":0,\"ticks\":\"\"}},\"type\":\"scatterpolargl\"}],\"scatterternary\":[{\"marker\":{\"colorbar\":{\"outlinewidth\":0,\"ticks\":\"\"}},\"type\":\"scatterternary\"}],\"surface\":[{\"colorbar\":{\"outlinewidth\":0,\"ticks\":\"\"},\"colorscale\":[[0.0,\"#0d0887\"],[0.1111111111111111,\"#46039f\"],[0.2222222222222222,\"#7201a8\"],[0.3333333333333333,\"#9c179e\"],[0.4444444444444444,\"#bd3786\"],[0.5555555555555556,\"#d8576b\"],[0.6666666666666666,\"#ed7953\"],[0.7777777777777778,\"#fb9f3a\"],[0.8888888888888888,\"#fdca26\"],[1.0,\"#f0f921\"]],\"type\":\"surface\"}],\"table\":[{\"cells\":{\"fill\":{\"color\":\"#EBF0F8\"},\"line\":{\"color\":\"white\"}},\"header\":{\"fill\":{\"color\":\"#C8D4E3\"},\"line\":{\"color\":\"white\"}},\"type\":\"table\"}]},\"layout\":{\"annotationdefaults\":{\"arrowcolor\":\"#2a3f5f\",\"arrowhead\":0,\"arrowwidth\":1},\"autotypenumbers\":\"strict\",\"coloraxis\":{\"colorbar\":{\"outlinewidth\":0,\"ticks\":\"\"}},\"colorscale\":{\"diverging\":[[0,\"#8e0152\"],[0.1,\"#c51b7d\"],[0.2,\"#de77ae\"],[0.3,\"#f1b6da\"],[0.4,\"#fde0ef\"],[0.5,\"#f7f7f7\"],[0.6,\"#e6f5d0\"],[0.7,\"#b8e186\"],[0.8,\"#7fbc41\"],[0.9,\"#4d9221\"],[1,\"#276419\"]],\"sequential\":[[0.0,\"#0d0887\"],[0.1111111111111111,\"#46039f\"],[0.2222222222222222,\"#7201a8\"],[0.3333333333333333,\"#9c179e\"],[0.4444444444444444,\"#bd3786\"],[0.5555555555555556,\"#d8576b\"],[0.6666666666666666,\"#ed7953\"],[0.7777777777777778,\"#fb9f3a\"],[0.8888888888888888,\"#fdca26\"],[1.0,\"#f0f921\"]],\"sequentialminus\":[[0.0,\"#0d0887\"],[0.1111111111111111,\"#46039f\"],[0.2222222222222222,\"#7201a8\"],[0.3333333333333333,\"#9c179e\"],[0.4444444444444444,\"#bd3786\"],[0.5555555555555556,\"#d8576b\"],[0.6666666666666666,\"#ed7953\"],[0.7777777777777778,\"#fb9f3a\"],[0.8888888888888888,\"#fdca26\"],[1.0,\"#f0f921\"]]},\"colorway\":[\"#636efa\",\"#EF553B\",\"#00cc96\",\"#ab63fa\",\"#FFA15A\",\"#19d3f3\",\"#FF6692\",\"#B6E880\",\"#FF97FF\",\"#FECB52\"],\"font\":{\"color\":\"#2a3f5f\"},\"geo\":{\"bgcolor\":\"white\",\"lakecolor\":\"white\",\"landcolor\":\"#E5ECF6\",\"showlakes\":true,\"showland\":true,\"subunitcolor\":\"white\"},\"hoverlabel\":{\"align\":\"left\"},\"hovermode\":\"closest\",\"mapbox\":{\"style\":\"light\"},\"paper_bgcolor\":\"white\",\"plot_bgcolor\":\"#E5ECF6\",\"polar\":{\"angularaxis\":{\"gridcolor\":\"white\",\"linecolor\":\"white\",\"ticks\":\"\"},\"bgcolor\":\"#E5ECF6\",\"radialaxis\":{\"gridcolor\":\"white\",\"linecolor\":\"white\",\"ticks\":\"\"}},\"scene\":{\"xaxis\":{\"backgroundcolor\":\"#E5ECF6\",\"gridcolor\":\"white\",\"gridwidth\":2,\"linecolor\":\"white\",\"showbackground\":true,\"ticks\":\"\",\"zerolinecolor\":\"white\"},\"yaxis\":{\"backgroundcolor\":\"#E5ECF6\",\"gridcolor\":\"white\",\"gridwidth\":2,\"linecolor\":\"white\",\"showbackground\":true,\"ticks\":\"\",\"zerolinecolor\":\"white\"},\"zaxis\":{\"backgroundcolor\":\"#E5ECF6\",\"gridcolor\":\"white\",\"gridwidth\":2,\"linecolor\":\"white\",\"showbackground\":true,\"ticks\":\"\",\"zerolinecolor\":\"white\"}},\"shapedefaults\":{\"line\":{\"color\":\"#2a3f5f\"}},\"ternary\":{\"aaxis\":{\"gridcolor\":\"white\",\"linecolor\":\"white\",\"ticks\":\"\"},\"baxis\":{\"gridcolor\":\"white\",\"linecolor\":\"white\",\"ticks\":\"\"},\"bgcolor\":\"#E5ECF6\",\"caxis\":{\"gridcolor\":\"white\",\"linecolor\":\"white\",\"ticks\":\"\"}},\"title\":{\"x\":0.05},\"xaxis\":{\"automargin\":true,\"gridcolor\":\"white\",\"linecolor\":\"white\",\"ticks\":\"\",\"title\":{\"standoff\":15},\"zerolinecolor\":\"white\",\"zerolinewidth\":2},\"yaxis\":{\"automargin\":true,\"gridcolor\":\"white\",\"linecolor\":\"white\",\"ticks\":\"\",\"title\":{\"standoff\":15},\"zerolinecolor\":\"white\",\"zerolinewidth\":2}}},\"scene\":{\"domain\":{\"x\":[0.0,1.0],\"y\":[0.0,1.0]},\"xaxis\":{\"title\":{\"text\":\"age\"}},\"yaxis\":{\"title\":{\"text\":\"axil_nodes\"}},\"zaxis\":{\"title\":{\"text\":\"op_year\"}}},\"legend\":{\"title\":{\"text\":\"Surv_status\"},\"tracegroupgap\":0},\"margin\":{\"t\":60}},                        {\"responsive\": true}                    ).then(function(){\n",
              "                            \n",
              "var gd = document.getElementById('235c394c-99ce-4e18-adba-e9d68d8f8286');\n",
              "var x = new MutationObserver(function (mutations, observer) {{\n",
              "        var display = window.getComputedStyle(gd).display;\n",
              "        if (!display || display === 'none') {{\n",
              "            console.log([gd, 'removed!']);\n",
              "            Plotly.purge(gd);\n",
              "            observer.disconnect();\n",
              "        }}\n",
              "}});\n",
              "\n",
              "// Listen for the removal of the full notebook cells\n",
              "var notebookContainer = gd.closest('#notebook-container');\n",
              "if (notebookContainer) {{\n",
              "    x.observe(notebookContainer, {childList: true});\n",
              "}}\n",
              "\n",
              "// Listen for the clearing of the current output cell\n",
              "var outputEl = gd.closest('.output');\n",
              "if (outputEl) {{\n",
              "    x.observe(outputEl, {childList: true});\n",
              "}}\n",
              "\n",
              "                        })                };                            </script>        </div>\n",
              "</body>\n",
              "</html>"
            ]
          },
          "metadata": {}
        }
      ]
    },
    {
      "cell_type": "markdown",
      "source": [
        " Given dataset is not linearly seperable."
      ],
      "metadata": {
        "id": "-LWROktbIQu2"
      }
    },
    {
      "cell_type": "markdown",
      "source": [
        "**OBSERVATIONS :**\n",
        "\n",
        "\n",
        "\n",
        "*   Given dataset is not linearly seperable. but we can state that the Number of positive axillary nodes detected are from 0 to 10.\n",
        "*   no single value is missing in dataSet.\n",
        "*   \"survival_status\" is integer which is[0,1] and needs to converted into valid categorical datatype.\n",
        "*   age range 40-60 have survived the most.\n",
        "*   Auxillary node=0 has the highest Survival rate as shown in graph."
      ],
      "metadata": {
        "id": "lnCgC3CBCW_h"
      }
    }
  ]
}